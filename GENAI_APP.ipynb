{
 "cells": [
  {
   "cell_type": "code",
   "execution_count": 1,
   "id": "b1acc522",
   "metadata": {},
   "outputs": [
    {
     "name": "stdout",
     "output_type": "stream",
     "text": [
      "Defaulting to user installation because normal site-packages is not writeableNote: you may need to restart the kernel to use updated packages.\n",
      "\n",
      "Requirement already satisfied: openai in c:\\users\\admin\\appdata\\roaming\\python\\python311\\site-packages (1.19.0)\n",
      "Requirement already satisfied: anyio<5,>=3.5.0 in c:\\programdata\\anaconda3\\envs\\sujitha\\lib\\site-packages (from openai) (3.5.0)\n",
      "Requirement already satisfied: distro<2,>=1.7.0 in c:\\users\\admin\\appdata\\roaming\\python\\python311\\site-packages (from openai) (1.9.0)\n",
      "Requirement already satisfied: httpx<1,>=0.23.0 in c:\\users\\admin\\appdata\\roaming\\python\\python311\\site-packages (from openai) (0.27.0)\n",
      "Requirement already satisfied: pydantic<3,>=1.9.0 in c:\\users\\admin\\appdata\\roaming\\python\\python311\\site-packages (from openai) (2.7.0)\n",
      "Requirement already satisfied: sniffio in c:\\programdata\\anaconda3\\envs\\sujitha\\lib\\site-packages (from openai) (1.2.0)\n",
      "Requirement already satisfied: tqdm>4 in c:\\users\\admin\\appdata\\roaming\\python\\python311\\site-packages (from openai) (4.66.2)\n",
      "Requirement already satisfied: typing-extensions<5,>=4.7 in c:\\programdata\\anaconda3\\envs\\sujitha\\lib\\site-packages (from openai) (4.7.1)\n",
      "Requirement already satisfied: idna>=2.8 in c:\\programdata\\anaconda3\\envs\\sujitha\\lib\\site-packages (from anyio<5,>=3.5.0->openai) (3.4)\n",
      "Requirement already satisfied: certifi in c:\\programdata\\anaconda3\\envs\\sujitha\\lib\\site-packages (from httpx<1,>=0.23.0->openai) (2023.11.17)\n",
      "Requirement already satisfied: httpcore==1.* in c:\\users\\admin\\appdata\\roaming\\python\\python311\\site-packages (from httpx<1,>=0.23.0->openai) (1.0.5)\n",
      "Requirement already satisfied: h11<0.15,>=0.13 in c:\\users\\admin\\appdata\\roaming\\python\\python311\\site-packages (from httpcore==1.*->httpx<1,>=0.23.0->openai) (0.14.0)\n",
      "Requirement already satisfied: annotated-types>=0.4.0 in c:\\users\\admin\\appdata\\roaming\\python\\python311\\site-packages (from pydantic<3,>=1.9.0->openai) (0.6.0)\n",
      "Requirement already satisfied: pydantic-core==2.18.1 in c:\\users\\admin\\appdata\\roaming\\python\\python311\\site-packages (from pydantic<3,>=1.9.0->openai) (2.18.1)\n",
      "Requirement already satisfied: colorama in c:\\programdata\\anaconda3\\envs\\sujitha\\lib\\site-packages (from tqdm>4->openai) (0.4.6)\n"
     ]
    }
   ],
   "source": [
    "pip install openai"
   ]
  },
  {
   "cell_type": "code",
   "execution_count": 2,
   "id": "9581aee2",
   "metadata": {},
   "outputs": [],
   "source": [
    "from openai import OpenAI"
   ]
  },
  {
   "cell_type": "code",
   "execution_count": 17,
   "id": "7d1c9a2b",
   "metadata": {},
   "outputs": [],
   "source": [
    "f=open(r\"C:\\Users\\Admin\\OneDrive\\Desktop\\intership2024\\Keys\\genaiapp_key.txt\")\n",
    "OPENAI_API_KEY = f.read()\n",
    "\n",
    "client = OpenAI(api_key = OPENAI_API_KEY)\n"
   ]
  },
  {
   "cell_type": "code",
   "execution_count": 18,
   "id": "c63aa85b",
   "metadata": {},
   "outputs": [
    {
     "data": {
      "text/plain": [
       "ChatCompletion(id='chatcmpl-9EY0Ez2kY41lfDOEEB1WUIEizdf2i', choices=[Choice(finish_reason='stop', index=0, logprobs=None, message=ChatCompletionMessage(content='1. Question: Which SQL statement is used to retrieve data from a database?\\n   A) SELECT\\n   B) UPDATE\\n   C) INSERT\\n   D) DELETE\\n   Answer: A) SELECT\\n\\n2. Question: What is the purpose of the WHERE clause in an SQL query?\\n   A) To specify the columns to be retrieved\\n   B) To filter the rows returned based on a condition\\n   C) To order the results in ascending or descending order\\n   D) To update the values in a table\\n   Answer: B) To filter the rows returned based on a condition\\n\\n3. Question: Which SQL statement is used to delete a record from a database table?\\n   A) DROP\\n   B) TRUNCATE\\n   C) DELETE\\n   D) REMOVE\\n   Answer: C) DELETE', role='assistant', function_call=None, tool_calls=None))], created=1713254326, model='gpt-3.5-turbo-0125', object='chat.completion', system_fingerprint='fp_c2295e73ad', usage=CompletionUsage(completion_tokens=169, prompt_tokens=18, total_tokens=187))"
      ]
     },
     "execution_count": 18,
     "metadata": {},
     "output_type": "execute_result"
    }
   ],
   "source": [
    "response = client.chat.completions.create(\n",
    "    model=\"gpt-3.5-turbo-0125\",\n",
    "    messages=[\n",
    "        {\"role\": \"user\", \"content\": \"Generate 3 SQL questions and answers for MCQ test\"}\n",
    "    ]\n",
    ")\n",
    "\n",
    "response"
   ]
  },
  {
   "cell_type": "code",
   "execution_count": 19,
   "id": "2977dfcb",
   "metadata": {},
   "outputs": [
    {
     "name": "stdout",
     "output_type": "stream",
     "text": [
      "1. Question: Which SQL statement is used to retrieve data from a database?\n",
      "   A) SELECT\n",
      "   B) UPDATE\n",
      "   C) INSERT\n",
      "   D) DELETE\n",
      "   Answer: A) SELECT\n",
      "\n",
      "2. Question: What is the purpose of the WHERE clause in an SQL query?\n",
      "   A) To specify the columns to be retrieved\n",
      "   B) To filter the rows returned based on a condition\n",
      "   C) To order the results in ascending or descending order\n",
      "   D) To update the values in a table\n",
      "   Answer: B) To filter the rows returned based on a condition\n",
      "\n",
      "3. Question: Which SQL statement is used to delete a record from a database table?\n",
      "   A) DROP\n",
      "   B) TRUNCATE\n",
      "   C) DELETE\n",
      "   D) REMOVE\n",
      "   Answer: C) DELETE\n"
     ]
    }
   ],
   "source": [
    "print(response.choices[0].message.content)"
   ]
  },
  {
   "cell_type": "code",
   "execution_count": null,
   "id": "c12cba2e",
   "metadata": {},
   "outputs": [],
   "source": []
  },
  {
   "cell_type": "code",
   "execution_count": null,
   "id": "6ea5940f",
   "metadata": {},
   "outputs": [],
   "source": []
  }
 ],
 "metadata": {
  "kernelspec": {
   "display_name": "Python 3 (ipykernel)",
   "language": "python",
   "name": "python3"
  },
  "language_info": {
   "codemirror_mode": {
    "name": "ipython",
    "version": 3
   },
   "file_extension": ".py",
   "mimetype": "text/x-python",
   "name": "python",
   "nbconvert_exporter": "python",
   "pygments_lexer": "ipython3",
   "version": "3.11.5"
  }
 },
 "nbformat": 4,
 "nbformat_minor": 5
}
